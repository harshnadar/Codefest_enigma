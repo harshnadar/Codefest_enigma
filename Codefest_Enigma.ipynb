{
  "nbformat": 4,
  "nbformat_minor": 0,
  "metadata": {
    "colab": {
      "name": "Codefest_Enigma.ipynb",
      "provenance": [],
      "collapsed_sections": [],
      "machine_shape": "hm",
      "include_colab_link": true
    },
    "kernelspec": {
      "name": "python3",
      "display_name": "Python 3"
    },
    "accelerator": "GPU"
  },
  "cells": [
    {
      "cell_type": "markdown",
      "metadata": {
        "id": "view-in-github",
        "colab_type": "text"
      },
      "source": [
        "<a href=\"https://colab.research.google.com/github/harshnadar/Codefest_enigma/blob/main/Codefest_Enigma.ipynb\" target=\"_parent\"><img src=\"https://colab.research.google.com/assets/colab-badge.svg\" alt=\"Open In Colab\"/></a>"
      ]
    },
    {
      "cell_type": "code",
      "metadata": {
        "id": "DouiyAqjiF25",
        "colab": {
          "base_uri": "https://localhost:8080/"
        },
        "outputId": "aff79b2b-1471-4b2e-8709-d2f6729227d2"
      },
      "source": [
        "from google.colab import drive\n",
        "drive.mount('/content/drive')"
      ],
      "execution_count": 1,
      "outputs": [
        {
          "output_type": "stream",
          "text": [
            "Mounted at /content/drive\n"
          ],
          "name": "stdout"
        }
      ]
    },
    {
      "cell_type": "code",
      "metadata": {
        "id": "snZHgtY7jbM8",
        "colab": {
          "base_uri": "https://localhost:8080/"
        },
        "outputId": "51b52a6d-41aa-4a15-de61-649494566332"
      },
      "source": [
        "cd 'drive'"
      ],
      "execution_count": 2,
      "outputs": [
        {
          "output_type": "stream",
          "text": [
            "/content/drive\n"
          ],
          "name": "stdout"
        }
      ]
    },
    {
      "cell_type": "code",
      "metadata": {
        "id": "XutaGzRZjfXS",
        "colab": {
          "base_uri": "https://localhost:8080/"
        },
        "outputId": "dbbaa338-ef53-43bf-fed1-aea3b8e61508"
      },
      "source": [
        "cd 'My Drive'"
      ],
      "execution_count": 3,
      "outputs": [
        {
          "output_type": "stream",
          "text": [
            "/content/drive/My Drive\n"
          ],
          "name": "stdout"
        }
      ]
    },
    {
      "cell_type": "code",
      "metadata": {
        "id": "K4DWAvj7jjVJ",
        "colab": {
          "base_uri": "https://localhost:8080/"
        },
        "outputId": "ae38a11a-d930-47c3-9808-7baf819059b8"
      },
      "source": [
        "cd 'enigma authors'"
      ],
      "execution_count": 4,
      "outputs": [
        {
          "output_type": "stream",
          "text": [
            "/content/drive/MyDrive/enigma authors\n"
          ],
          "name": "stdout"
        }
      ]
    },
    {
      "cell_type": "markdown",
      "metadata": {
        "id": "1KZCwJURX0yY"
      },
      "source": [
        "#IMPORTING LIBRARIES\n",
        "\n",
        "We have used pandas for loading the data. Then we have used numpy for fast processing and at last keras neural models to fit the data."
      ]
    },
    {
      "cell_type": "code",
      "metadata": {
        "id": "G2Rp5iX1jmQo"
      },
      "source": [
        "import pandas as pd\n",
        "import numpy as np\n",
        "import matplotlib as plt\n",
        "from sklearn.preprocessing import StandardScaler\n",
        "from sklearn.model_selection import train_test_split\n",
        "from sklearn.metrics import r2_score,mean_squared_error\n",
        "from sklearn.linear_model import LinearRegression\n",
        "from sklearn.ensemble import RandomForestRegressor\n",
        "from sklearn.model_selection import GridSearchCV\n",
        "import keras\n",
        "import tensorflow\n",
        "from sklearn.metrics import mean_absolute_error,mean_squared_error,accuracy_score,f1_score,precision_score,recall_score,r2_score\n",
        "from keras.models import Sequential\n",
        "from keras.layers import Dense, Dropout\n",
        "from keras.layers import LeakyReLU,ReLU,Activation\n",
        "from keras.layers import Embedding,Input, concatenate, Reshape\n",
        "from keras.models import *\n",
        "from keras import optimizers\n",
        "from keras.layers.normalization import BatchNormalization\n",
        "from collections import Counter"
      ],
      "execution_count": 5,
      "outputs": []
    },
    {
      "cell_type": "markdown",
      "metadata": {
        "id": "5e26OpcaYP7E"
      },
      "source": [
        "#Loading the data"
      ]
    },
    {
      "cell_type": "code",
      "metadata": {
        "id": "ylGkjQkEj4oy",
        "colab": {
          "base_uri": "https://localhost:8080/",
          "height": 235
        },
        "outputId": "f9f09f0e-a603-4ac5-ef77-30212fbcd048"
      },
      "source": [
        "df_train=pd.read_csv('train.csv')\n",
        "df_train.set_index('id',inplace=True)\n",
        "df_train.head(5)\n",
        "df_test=pd.read_csv('test.csv')\n",
        "df_test.shape\n",
        "df_train.head(5)"
      ],
      "execution_count": 6,
      "outputs": [
        {
          "output_type": "execute_result",
          "data": {
            "text/html": [
              "<div>\n",
              "<style scoped>\n",
              "    .dataframe tbody tr th:only-of-type {\n",
              "        vertical-align: middle;\n",
              "    }\n",
              "\n",
              "    .dataframe tbody tr th {\n",
              "        vertical-align: top;\n",
              "    }\n",
              "\n",
              "    .dataframe thead th {\n",
              "        text-align: right;\n",
              "    }\n",
              "</style>\n",
              "<table border=\"1\" class=\"dataframe\">\n",
              "  <thead>\n",
              "    <tr style=\"text-align: right;\">\n",
              "      <th></th>\n",
              "      <th>author_id</th>\n",
              "      <th>year</th>\n",
              "      <th>venue_id</th>\n",
              "      <th>citations</th>\n",
              "    </tr>\n",
              "    <tr>\n",
              "      <th>id</th>\n",
              "      <th></th>\n",
              "      <th></th>\n",
              "      <th></th>\n",
              "      <th></th>\n",
              "    </tr>\n",
              "  </thead>\n",
              "  <tbody>\n",
              "    <tr>\n",
              "      <th>162253</th>\n",
              "      <td>['302080', '254034', '1650574', '1688060', '35...</td>\n",
              "      <td>2011.0</td>\n",
              "      <td>15632</td>\n",
              "      <td>0</td>\n",
              "    </tr>\n",
              "    <tr>\n",
              "      <th>42448</th>\n",
              "      <td>['471182']</td>\n",
              "      <td>2010.0</td>\n",
              "      <td>15752</td>\n",
              "      <td>0</td>\n",
              "    </tr>\n",
              "    <tr>\n",
              "      <th>226093</th>\n",
              "      <td>['1252574']</td>\n",
              "      <td>2012.0</td>\n",
              "      <td>19098</td>\n",
              "      <td>0</td>\n",
              "    </tr>\n",
              "    <tr>\n",
              "      <th>281211</th>\n",
              "      <td>['1700521', '1634966', '1560119', '1588537', '...</td>\n",
              "      <td>2012.0</td>\n",
              "      <td>20323</td>\n",
              "      <td>29</td>\n",
              "    </tr>\n",
              "    <tr>\n",
              "      <th>8973</th>\n",
              "      <td>['750555', '1125222']</td>\n",
              "      <td>2010.0</td>\n",
              "      <td>12539</td>\n",
              "      <td>0</td>\n",
              "    </tr>\n",
              "  </tbody>\n",
              "</table>\n",
              "</div>"
            ],
            "text/plain": [
              "                                                author_id  ...  citations\n",
              "id                                                         ...           \n",
              "162253  ['302080', '254034', '1650574', '1688060', '35...  ...          0\n",
              "42448                                          ['471182']  ...          0\n",
              "226093                                        ['1252574']  ...          0\n",
              "281211  ['1700521', '1634966', '1560119', '1588537', '...  ...         29\n",
              "8973                                ['750555', '1125222']  ...          0\n",
              "\n",
              "[5 rows x 4 columns]"
            ]
          },
          "metadata": {
            "tags": []
          },
          "execution_count": 6
        }
      ]
    },
    {
      "cell_type": "markdown",
      "metadata": {
        "id": "H3YSMuLMYWq-"
      },
      "source": [
        "Calculated mean for year and venue. We first converted venue to index then calculated the mean of both"
      ]
    },
    {
      "cell_type": "code",
      "metadata": {
        "id": "deA1t9iLYLp9",
        "colab": {
          "base_uri": "https://localhost:8080/"
        },
        "outputId": "5e83c862-924c-406c-f154-a3cd91ecbc4c"
      },
      "source": [
        "df_venue=df_train.pivot_table(index=['venue_id'],values=['citations'],aggfunc='mean',fill_value=0)\n",
        "vtoc=df_venue.to_dict('id')\n"
      ],
      "execution_count": 7,
      "outputs": [
        {
          "output_type": "stream",
          "text": [
            "/usr/local/lib/python3.7/dist-packages/pandas/core/frame.py:1490: FutureWarning: Using short name for 'orient' is deprecated. Only the options: ('dict', list, 'series', 'split', 'records', 'index') will be used in a future version. Use one of the above to silence this warning.\n",
            "  FutureWarning,\n"
          ],
          "name": "stderr"
        }
      ]
    },
    {
      "cell_type": "code",
      "metadata": {
        "id": "7EcDwPhdNifS",
        "colab": {
          "base_uri": "https://localhost:8080/"
        },
        "outputId": "4743e61c-d496-4ebd-aa24-dd585ec1af01"
      },
      "source": [
        "df_year=df_train.pivot_table(index=['year'],values=['citations'],aggfunc='mean',fill_value=0)\n",
        "vtoc1=df_year.to_dict('id')"
      ],
      "execution_count": 8,
      "outputs": [
        {
          "output_type": "stream",
          "text": [
            "/usr/local/lib/python3.7/dist-packages/pandas/core/frame.py:1490: FutureWarning: Using short name for 'orient' is deprecated. Only the options: ('dict', list, 'series', 'split', 'records', 'index') will be used in a future version. Use one of the above to silence this warning.\n",
            "  FutureWarning,\n"
          ],
          "name": "stderr"
        }
      ]
    },
    {
      "cell_type": "markdown",
      "metadata": {
        "id": "ZzFOWb7oYliz"
      },
      "source": [
        "#Created feature of venue and year\n",
        "We have put default values for year and venue both as 3(by observation). Then we have included those features in our data."
      ]
    },
    {
      "cell_type": "code",
      "metadata": {
        "id": "JsQCk0LGffsz",
        "colab": {
          "base_uri": "https://localhost:8080/",
          "height": 204
        },
        "outputId": "6eba4206-f3c5-4083-d814-0f414e25677f"
      },
      "source": [
        "def c1(l):\n",
        "  d1 = vtoc.get(int(l),0)\n",
        "  if (d1==0):\n",
        "    return 3\n",
        "  else:\n",
        "    return d1['citations']\n",
        "def c2(l):\n",
        "  d1 = vtoc1.get(int(l),0)\n",
        "  if (d1==0):\n",
        "    return 3\n",
        "  else:\n",
        "    return d1['citations']\n",
        "df_train['count']=df_train['venue_id'].apply(c1)\n",
        "df_test['count']=df_test['venue_id'].apply(c1)\n",
        "df_train['county']=df_train['year'].apply(c2)\n",
        "df_test['county']=df_test['year'].apply(c2)\n",
        "df_train.head(5)\n",
        "df_test.head(5)"
      ],
      "execution_count": 9,
      "outputs": [
        {
          "output_type": "execute_result",
          "data": {
            "text/html": [
              "<div>\n",
              "<style scoped>\n",
              "    .dataframe tbody tr th:only-of-type {\n",
              "        vertical-align: middle;\n",
              "    }\n",
              "\n",
              "    .dataframe tbody tr th {\n",
              "        vertical-align: top;\n",
              "    }\n",
              "\n",
              "    .dataframe thead th {\n",
              "        text-align: right;\n",
              "    }\n",
              "</style>\n",
              "<table border=\"1\" class=\"dataframe\">\n",
              "  <thead>\n",
              "    <tr style=\"text-align: right;\">\n",
              "      <th></th>\n",
              "      <th>author_id</th>\n",
              "      <th>year</th>\n",
              "      <th>venue_id</th>\n",
              "      <th>id</th>\n",
              "      <th>count</th>\n",
              "      <th>county</th>\n",
              "    </tr>\n",
              "  </thead>\n",
              "  <tbody>\n",
              "    <tr>\n",
              "      <th>0</th>\n",
              "      <td>['1138048']</td>\n",
              "      <td>2010.0</td>\n",
              "      <td>22698</td>\n",
              "      <td>77152</td>\n",
              "      <td>5.224719</td>\n",
              "      <td>5.042993</td>\n",
              "    </tr>\n",
              "    <tr>\n",
              "      <th>1</th>\n",
              "      <td>['1111668', '1154294']</td>\n",
              "      <td>2012.0</td>\n",
              "      <td>1037</td>\n",
              "      <td>253904</td>\n",
              "      <td>16.000000</td>\n",
              "      <td>5.581043</td>\n",
              "    </tr>\n",
              "    <tr>\n",
              "      <th>2</th>\n",
              "      <td>['1505756', '1382981']</td>\n",
              "      <td>2010.0</td>\n",
              "      <td>22438</td>\n",
              "      <td>46386</td>\n",
              "      <td>8.000000</td>\n",
              "      <td>5.042993</td>\n",
              "    </tr>\n",
              "    <tr>\n",
              "      <th>3</th>\n",
              "      <td>['634857', '542921']</td>\n",
              "      <td>2010.0</td>\n",
              "      <td>21723</td>\n",
              "      <td>19572</td>\n",
              "      <td>15.166667</td>\n",
              "      <td>5.042993</td>\n",
              "    </tr>\n",
              "    <tr>\n",
              "      <th>4</th>\n",
              "      <td>['1709244', '1240251', '490730', '1525100']</td>\n",
              "      <td>2012.0</td>\n",
              "      <td>22453</td>\n",
              "      <td>182480</td>\n",
              "      <td>7.100000</td>\n",
              "      <td>5.581043</td>\n",
              "    </tr>\n",
              "  </tbody>\n",
              "</table>\n",
              "</div>"
            ],
            "text/plain": [
              "                                     author_id    year  ...      count    county\n",
              "0                                  ['1138048']  2010.0  ...   5.224719  5.042993\n",
              "1                       ['1111668', '1154294']  2012.0  ...  16.000000  5.581043\n",
              "2                       ['1505756', '1382981']  2010.0  ...   8.000000  5.042993\n",
              "3                         ['634857', '542921']  2010.0  ...  15.166667  5.042993\n",
              "4  ['1709244', '1240251', '490730', '1525100']  2012.0  ...   7.100000  5.581043\n",
              "\n",
              "[5 rows x 6 columns]"
            ]
          },
          "metadata": {
            "tags": []
          },
          "execution_count": 9
        }
      ]
    },
    {
      "cell_type": "code",
      "metadata": {
        "id": "Jge1RApNj8NQ"
      },
      "source": [
        "df_author=pd.read_csv('authors.csv')\n",
        "df_author.set_index('id',inplace=True)\n",
        "df_author=df_author[['published-papers','citations','h-index','p-equal-a','p-unequal-a','interests']]"
      ],
      "execution_count": 10,
      "outputs": []
    },
    {
      "cell_type": "markdown",
      "metadata": {
        "id": "Y1iruuQOZFi6"
      },
      "source": [
        "#FINDING THE TOPIC OF THE PAPER BY COMMON INTEREST OF THE AUTHORS\n",
        "We have made the vocab and word to index for the interest section of the authors."
      ]
    },
    {
      "cell_type": "code",
      "metadata": {
        "id": "Pol488AIhJWL",
        "colab": {
          "base_uri": "https://localhost:8080/"
        },
        "outputId": "5b36d09f-3a9e-432e-e6cd-b6d9b507ac27"
      },
      "source": [
        "interests=df_author[['interests']].values\n",
        "d={}\n",
        "vocab=[]\n",
        "word_to_index={}\n",
        "index=0\n",
        "for i in interests:\n",
        "  l=i[0].split(\",\")\n",
        "  l=[i.strip(\"[\").strip(\"]\").strip(\" \").strip(\"'\") for i in l]\n",
        "  for j in l:\n",
        "    if (d.get(j,0)==0):\n",
        "      d[j]=1\n",
        "      vocab.append(j)\n",
        "      word_to_index[j]=index\n",
        "      index=index+1\n",
        "    else:\n",
        "      d[j]=d[j]+1\n",
        "len(vocab)"
      ],
      "execution_count": 11,
      "outputs": [
        {
          "output_type": "execute_result",
          "data": {
            "text/plain": [
              "2494140"
            ]
          },
          "metadata": {
            "tags": []
          },
          "execution_count": 11
        }
      ]
    },
    {
      "cell_type": "markdown",
      "metadata": {
        "id": "urQvA5YVZ4e0"
      },
      "source": [
        "#Calculating more features by taking into account the authors of the paper\n",
        "\n",
        "First we have calculated the no. of authors for each paper and then we have calculated the maximum of 'published papers', 'citations', 'h-index', 'p-equal-a', 'p-unequal-a' for all the authors of particular paper and take those four values as the new feature for each paper"
      ]
    },
    {
      "cell_type": "code",
      "metadata": {
        "id": "hFUSOC_ykBAq"
      },
      "source": [
        "def cp(l):\n",
        "    l1=l.split(\",\")\n",
        "    l2=[]\n",
        "    for i in l1:\n",
        "        str1=i.strip('[')\n",
        "        str2=str1.strip(']')\n",
        "        str2=str2.strip(' ')\n",
        "        str2=str2.strip(\"'\")\n",
        "        num=int(str2)\n",
        "        sum1=0\n",
        "        sum1=max(sum1,df_author.loc[num]['published-papers'])\n",
        "       \n",
        "        sum2=0\n",
        "        sum2=max(sum2,df_author.loc[num]['citations'])\n",
        "        \n",
        "        sum3=0\n",
        "        sum3=max(sum3,df_author.loc[num]['h-index'])\n",
        "        \n",
        "        sum4=0\n",
        "        sum4=max(sum4,df_author.loc[num]['p-equal-a'])\n",
        "       \n",
        "        sum5=0\n",
        "        sum5=max(sum5,df_author.loc[num]['p-unequal-a'])\n",
        "       \n",
        "    return sum1,sum2,sum3,sum4,sum5"
      ],
      "execution_count": 12,
      "outputs": []
    },
    {
      "cell_type": "code",
      "metadata": {
        "id": "9pWidNP99Anc"
      },
      "source": [
        "top1=np.zeros((df_train.shape[0],1))\n",
        "top2=np.zeros((df_train.shape[0],1))\n",
        "top3=np.zeros((df_train.shape[0],1))"
      ],
      "execution_count": 13,
      "outputs": []
    },
    {
      "cell_type": "code",
      "metadata": {
        "id": "OnhE14vGxy2S"
      },
      "source": [
        "top1_t=np.zeros((df_test.shape[0],1))\n",
        "top2_t=np.zeros((df_test.shape[0],1))\n",
        "top3_t=np.zeros((df_test.shape[0],1))"
      ],
      "execution_count": 14,
      "outputs": []
    },
    {
      "cell_type": "markdown",
      "metadata": {
        "id": "G6_qyAi1bNmn"
      },
      "source": [
        "#CALCULATED TOP 3 TOPICS FOR EACH PAPER\n",
        "\n",
        "As written above that I have calculated interest's vocab and word to index. Then for each author of the paper we calculated the max common 3 interests among the authors and used them as features. Word to index was used to calculate the index of each interest. "
      ]
    },
    {
      "cell_type": "code",
      "metadata": {
        "id": "gfPjUJRq9adJ"
      },
      "source": [
        "for i in range(len(df_train)):\n",
        "  authors=df_train.iloc[i]['author_id']\n",
        "  authors=[i.strip('[').strip(']').strip(' ').strip(\"'\") for i in authors.split(\",\")]\n",
        "  interest_list=[]\n",
        "  for j in authors:\n",
        "    interests=df_author.loc[int(j)]['interests']\n",
        "    interests=[i.strip('[').strip(']').strip(' ').strip(\"'\") for i in interests.split(\",\")]\n",
        "    interest_list.extend(interests)\n",
        "  dict1=Counter(interest_list)\n",
        "  index1=1\n",
        "  for k in dict1:\n",
        "    k=str(k)\n",
        "    if (index1==1):\n",
        "      top1[i][0]=word_to_index[k]\n",
        "    if (index1==2):\n",
        "      top2[i][0]=word_to_index[k]\n",
        "    if (index1==3):\n",
        "      top3[i][0]=word_to_index[k]\n",
        "    index1=index1+1\n",
        "    if (index1==4):\n",
        "      break"
      ],
      "execution_count": 15,
      "outputs": []
    },
    {
      "cell_type": "markdown",
      "metadata": {
        "id": "nn5_3adpcWcs"
      },
      "source": [
        "#Similarly did for test data"
      ]
    },
    {
      "cell_type": "code",
      "metadata": {
        "id": "ZbVWykobtboy"
      },
      "source": [
        "for i in range(len(df_test)):\n",
        "  authors=df_test.iloc[i]['author_id']\n",
        "  authors=[i.strip('[').strip(']').strip(' ').strip(\"'\") for i in authors.split(\",\")]\n",
        "  interest_list=[]\n",
        "  for j in authors:\n",
        "    interests=df_author.loc[int(j)]['interests']\n",
        "    interests=[i.strip('[').strip(']').strip(' ').strip(\"'\") for i in interests.split(\",\")]\n",
        "    interest_list.extend(interests)\n",
        "  dict1=Counter(interest_list)\n",
        "  index1=1\n",
        "  for k in dict1:\n",
        "    k=str(k)\n",
        "    if (index1==1):\n",
        "      top1_t[i][0]=word_to_index[k]\n",
        "    if (index1==2):\n",
        "      top2_t[i][0]=word_to_index[k]\n",
        "    if (index1==3):\n",
        "      top3_t[i][0]=word_to_index[k]\n",
        "    index1=index1+1\n",
        "    if (index1==4):\n",
        "      break"
      ],
      "execution_count": 16,
      "outputs": []
    },
    {
      "cell_type": "markdown",
      "metadata": {
        "id": "xd1Q-YABccOy"
      },
      "source": [
        "#Concatenating the features for train and test data"
      ]
    },
    {
      "cell_type": "code",
      "metadata": {
        "id": "_uGPTn7zkpb0"
      },
      "source": [
        "df_train['pp'], df_train['c'], df_train['hi'], df_train['p4'], df_train['p5'] = zip(*df_train['author_id'].map(cp))"
      ],
      "execution_count": 17,
      "outputs": []
    },
    {
      "cell_type": "code",
      "metadata": {
        "id": "AHDUtyFOKFXd"
      },
      "source": [
        "df_test['pp'], df_test['c'], df_test['hi'], df_test['p4'], df_test['p5'] = zip(*df_test['author_id'].map(cp))"
      ],
      "execution_count": 18,
      "outputs": []
    },
    {
      "cell_type": "code",
      "metadata": {
        "id": "enzWJ429VaW6",
        "colab": {
          "base_uri": "https://localhost:8080/"
        },
        "outputId": "b8c23102-bec2-47ff-dca4-28e3b1db0620"
      },
      "source": [
        "f1=df_test['id'].values\n",
        "f1.shape"
      ],
      "execution_count": 19,
      "outputs": [
        {
          "output_type": "execute_result",
          "data": {
            "text/plain": [
              "(148144,)"
            ]
          },
          "metadata": {
            "tags": []
          },
          "execution_count": 19
        }
      ]
    },
    {
      "cell_type": "markdown",
      "metadata": {
        "id": "w_jtAzRQclbj"
      },
      "source": [
        "#Dividing into X and y"
      ]
    },
    {
      "cell_type": "code",
      "metadata": {
        "id": "Ric9EoPPpf53"
      },
      "source": [
        "X=df_train[['pp','c','count','county']].values\n",
        "X_t=df_test[['pp','c','count','county']].values\n",
        "y=df_train[['citations']].values"
      ],
      "execution_count": 22,
      "outputs": []
    },
    {
      "cell_type": "markdown",
      "metadata": {
        "id": "yGHreD4ScpDW"
      },
      "source": [
        "#Normalising the data"
      ]
    },
    {
      "cell_type": "code",
      "metadata": {
        "id": "xqJ8VrTwyBXE"
      },
      "source": [
        "scalar=StandardScaler()"
      ],
      "execution_count": 23,
      "outputs": []
    },
    {
      "cell_type": "code",
      "metadata": {
        "id": "WzGKWUYwyFto",
        "colab": {
          "base_uri": "https://localhost:8080/"
        },
        "outputId": "2394e1de-6cfb-4eda-f458-33e5470a9296"
      },
      "source": [
        "X=scalar.fit_transform(X)\n",
        "X"
      ],
      "execution_count": 24,
      "outputs": [
        {
          "output_type": "execute_result",
          "data": {
            "text/plain": [
              "array([[-0.31633253, -0.20304571, -0.49423404, -0.4824248 ],\n",
              "       [-0.39074924, -0.20602529, -0.84366104, -0.72070043],\n",
              "       [ 0.576668  , -0.06300571, -0.84366104,  0.05195316],\n",
              "       ...,\n",
              "       [-0.13029075, -0.1464338 ,  1.93564475, -0.72070043],\n",
              "       [-0.39074924, -0.20602529, -0.65664115,  0.05195316],\n",
              "       [-0.35354089, -0.20602529,  0.70544902, -0.4824248 ]])"
            ]
          },
          "metadata": {
            "tags": []
          },
          "execution_count": 24
        }
      ]
    },
    {
      "cell_type": "code",
      "metadata": {
        "id": "RsfrZ-hR818c"
      },
      "source": [
        "X_t=scalar.transform(X_t)"
      ],
      "execution_count": 26,
      "outputs": []
    },
    {
      "cell_type": "markdown",
      "metadata": {
        "id": "KPGRF4ICcthQ"
      },
      "source": [
        "#SPLITTING THE DATASET"
      ]
    },
    {
      "cell_type": "code",
      "metadata": {
        "id": "_qucE-B3yMMe"
      },
      "source": [
        "X_train, X_test, y_train, y_test = train_test_split(X, y, test_size=0.1, random_state=2018)\n",
        "top1_train, top1_test, _, __ = train_test_split(top1, y, test_size=0.1, random_state=2018)\n",
        "top2_train, top2_test, _, __ = train_test_split(top1, y, test_size=0.1, random_state=2018)\n",
        "top3_train, top3_test, _, __ = train_test_split(top1, y, test_size=0.1, random_state=2018)"
      ],
      "execution_count": 27,
      "outputs": []
    },
    {
      "cell_type": "markdown",
      "metadata": {
        "id": "Jydbx9XwcyW-"
      },
      "source": [
        "#Model\n",
        "we have used the embedding layer to convert the top 3 topics for each paper to embedded vector of 8 dimensions\n",
        "Then we have applied a simple neural model with activaton function \"selu\"."
      ]
    },
    {
      "cell_type": "code",
      "metadata": {
        "id": "rNh3v-KBzNfW",
        "colab": {
          "base_uri": "https://localhost:8080/"
        },
        "outputId": "481b2d6f-0235-4856-919b-2ad870edd503"
      },
      "source": [
        "one_i=Input(shape=(1,),name='top1_in')\n",
        "one_o=(Embedding(len(vocab), 8, mask_zero=False))(one_i)\n",
        "one_o=(Reshape(target_shape=(8,),input_shape=(1,8)))(one_o)\n",
        "\n",
        "two_i=Input(shape=(1,),name='top2_in')\n",
        "two_o=(Embedding(len(vocab), 8, mask_zero=False))(two_i)\n",
        "two_o=(Reshape(target_shape=(8,),input_shape=(1,8)))(two_o)\n",
        "\n",
        "th_i=Input(shape=(1,),name='top3_in')\n",
        "th_o=(Embedding(len(vocab), 8, mask_zero=False))(th_i)\n",
        "th_o=(Reshape(target_shape=(8,),input_shape=(1,8)))(th_o)\n",
        "\n",
        "main_i=Input(shape=(X_train.shape[1],),name='main_in')\n",
        "\n",
        "x = concatenate([main_i, one_o, two_o, th_o])\n",
        "\n",
        "x=(Dense(64,activation='selu'))(x)\n",
        "x=(Dense(32,activation='selu'))(x)\n",
        "x=(Dense(16,activation='selu'))(x)\n",
        "x=(Dense(4,activation='selu'))(x)\n",
        "\n",
        "x=(Dense(1,activation='selu'))(x)\n",
        "\n",
        "model=Model(inputs=[one_i,two_i,th_i,main_i],outputs=x)\n",
        "model.compile(optimizer='adam', loss='mean_squared_error')\n",
        "print (model.summary())"
      ],
      "execution_count": 30,
      "outputs": [
        {
          "output_type": "stream",
          "text": [
            "Model: \"model\"\n",
            "__________________________________________________________________________________________________\n",
            "Layer (type)                    Output Shape         Param #     Connected to                     \n",
            "==================================================================================================\n",
            "top1_in (InputLayer)            [(None, 1)]          0                                            \n",
            "__________________________________________________________________________________________________\n",
            "top2_in (InputLayer)            [(None, 1)]          0                                            \n",
            "__________________________________________________________________________________________________\n",
            "top3_in (InputLayer)            [(None, 1)]          0                                            \n",
            "__________________________________________________________________________________________________\n",
            "embedding_6 (Embedding)         (None, 1, 8)         19953120    top1_in[0][0]                    \n",
            "__________________________________________________________________________________________________\n",
            "embedding_7 (Embedding)         (None, 1, 8)         19953120    top2_in[0][0]                    \n",
            "__________________________________________________________________________________________________\n",
            "embedding_8 (Embedding)         (None, 1, 8)         19953120    top3_in[0][0]                    \n",
            "__________________________________________________________________________________________________\n",
            "main_in (InputLayer)            [(None, 4)]          0                                            \n",
            "__________________________________________________________________________________________________\n",
            "reshape_6 (Reshape)             (None, 8)            0           embedding_6[0][0]                \n",
            "__________________________________________________________________________________________________\n",
            "reshape_7 (Reshape)             (None, 8)            0           embedding_7[0][0]                \n",
            "__________________________________________________________________________________________________\n",
            "reshape_8 (Reshape)             (None, 8)            0           embedding_8[0][0]                \n",
            "__________________________________________________________________________________________________\n",
            "concatenate_2 (Concatenate)     (None, 28)           0           main_in[0][0]                    \n",
            "                                                                 reshape_6[0][0]                  \n",
            "                                                                 reshape_7[0][0]                  \n",
            "                                                                 reshape_8[0][0]                  \n",
            "__________________________________________________________________________________________________\n",
            "dense_10 (Dense)                (None, 64)           1856        concatenate_2[0][0]              \n",
            "__________________________________________________________________________________________________\n",
            "dense_11 (Dense)                (None, 32)           2080        dense_10[0][0]                   \n",
            "__________________________________________________________________________________________________\n",
            "dense_12 (Dense)                (None, 16)           528         dense_11[0][0]                   \n",
            "__________________________________________________________________________________________________\n",
            "dense_13 (Dense)                (None, 4)            68          dense_12[0][0]                   \n",
            "__________________________________________________________________________________________________\n",
            "dense_14 (Dense)                (None, 1)            5           dense_13[0][0]                   \n",
            "==================================================================================================\n",
            "Total params: 59,863,897\n",
            "Trainable params: 59,863,897\n",
            "Non-trainable params: 0\n",
            "__________________________________________________________________________________________________\n",
            "None\n"
          ],
          "name": "stdout"
        }
      ]
    },
    {
      "cell_type": "markdown",
      "metadata": {
        "id": "Y5sFjjqLdQp0"
      },
      "source": [
        "#Fitting the model\n"
      ]
    },
    {
      "cell_type": "code",
      "metadata": {
        "id": "AgqTunybIsRn",
        "colab": {
          "base_uri": "https://localhost:8080/"
        },
        "outputId": "fa6b2e54-cca8-4d87-b987-8daf9dec810d"
      },
      "source": [
        "model.fit([top1_train,top2_train,top3_train,X_train],y_train,batch_size=1024, epochs=5, validation_split=0.3, verbose=1)"
      ],
      "execution_count": 31,
      "outputs": [
        {
          "output_type": "stream",
          "text": [
            "Epoch 1/5\n",
            "137/137 [==============================] - 91s 544ms/step - loss: 60.6223 - val_loss: 34.6068\n",
            "Epoch 2/5\n",
            "137/137 [==============================] - 73s 536ms/step - loss: 33.3275 - val_loss: 34.1392\n",
            "Epoch 3/5\n",
            "137/137 [==============================] - 73s 534ms/step - loss: 26.2537 - val_loss: 35.0615\n",
            "Epoch 4/5\n",
            "137/137 [==============================] - 73s 533ms/step - loss: 22.7678 - val_loss: 35.8175\n",
            "Epoch 5/5\n",
            "137/137 [==============================] - 73s 534ms/step - loss: 21.1088 - val_loss: 36.7679\n"
          ],
          "name": "stdout"
        },
        {
          "output_type": "execute_result",
          "data": {
            "text/plain": [
              "<keras.callbacks.History at 0x7f3585b00850>"
            ]
          },
          "metadata": {
            "tags": []
          },
          "execution_count": 31
        }
      ]
    },
    {
      "cell_type": "markdown",
      "metadata": {
        "id": "tC1WlmzxdZUv"
      },
      "source": [
        "#Predicting the model"
      ]
    },
    {
      "cell_type": "code",
      "metadata": {
        "id": "NvL1tSNTzQdb",
        "colab": {
          "base_uri": "https://localhost:8080/"
        },
        "outputId": "1308fa98-2286-4d4c-b99b-734ae9d971ff"
      },
      "source": [
        "y_predict=model.predict([top1_t,top2_t,top3_t,X_t])\n",
        "y_predict.shape"
      ],
      "execution_count": 32,
      "outputs": [
        {
          "output_type": "execute_result",
          "data": {
            "text/plain": [
              "(148144, 1)"
            ]
          },
          "metadata": {
            "tags": []
          },
          "execution_count": 32
        }
      ]
    },
    {
      "cell_type": "code",
      "metadata": {
        "id": "xHLluCmkcKQq"
      },
      "source": [
        "y_predict=y_predict.reshape(y_predict.shape[0],1)"
      ],
      "execution_count": 33,
      "outputs": []
    },
    {
      "cell_type": "code",
      "metadata": {
        "id": "ba2kroarcc8y"
      },
      "source": [
        "f1=f1.reshape(f1.shape[0],1)"
      ],
      "execution_count": 34,
      "outputs": []
    },
    {
      "cell_type": "code",
      "metadata": {
        "id": "N7xoyGQg09fJ"
      },
      "source": [
        "f2=np.hstack((f1,np.round(y_predict)))"
      ],
      "execution_count": 35,
      "outputs": []
    },
    {
      "cell_type": "code",
      "metadata": {
        "id": "-cAPXZ1w1bVb",
        "colab": {
          "base_uri": "https://localhost:8080/"
        },
        "outputId": "9f62cfef-4688-4f6a-bf85-1673eba61b87"
      },
      "source": [
        "f2.shape"
      ],
      "execution_count": 36,
      "outputs": [
        {
          "output_type": "execute_result",
          "data": {
            "text/plain": [
              "(148144, 2)"
            ]
          },
          "metadata": {
            "tags": []
          },
          "execution_count": 36
        }
      ]
    },
    {
      "cell_type": "code",
      "metadata": {
        "id": "FKjPBiwMc91u"
      },
      "source": [
        "answer=pd.DataFrame(f2,columns=['id','citations'])"
      ],
      "execution_count": 37,
      "outputs": []
    },
    {
      "cell_type": "code",
      "metadata": {
        "id": "OSi8TxpEdYKb",
        "colab": {
          "base_uri": "https://localhost:8080/",
          "height": 204
        },
        "outputId": "62821ba9-49a9-43a6-e012-658df715f521"
      },
      "source": [
        "answer.head(5)"
      ],
      "execution_count": 38,
      "outputs": [
        {
          "output_type": "execute_result",
          "data": {
            "text/html": [
              "<div>\n",
              "<style scoped>\n",
              "    .dataframe tbody tr th:only-of-type {\n",
              "        vertical-align: middle;\n",
              "    }\n",
              "\n",
              "    .dataframe tbody tr th {\n",
              "        vertical-align: top;\n",
              "    }\n",
              "\n",
              "    .dataframe thead th {\n",
              "        text-align: right;\n",
              "    }\n",
              "</style>\n",
              "<table border=\"1\" class=\"dataframe\">\n",
              "  <thead>\n",
              "    <tr style=\"text-align: right;\">\n",
              "      <th></th>\n",
              "      <th>id</th>\n",
              "      <th>citations</th>\n",
              "    </tr>\n",
              "  </thead>\n",
              "  <tbody>\n",
              "    <tr>\n",
              "      <th>0</th>\n",
              "      <td>77152.0</td>\n",
              "      <td>6.0</td>\n",
              "    </tr>\n",
              "    <tr>\n",
              "      <th>1</th>\n",
              "      <td>253904.0</td>\n",
              "      <td>18.0</td>\n",
              "    </tr>\n",
              "    <tr>\n",
              "      <th>2</th>\n",
              "      <td>46386.0</td>\n",
              "      <td>9.0</td>\n",
              "    </tr>\n",
              "    <tr>\n",
              "      <th>3</th>\n",
              "      <td>19572.0</td>\n",
              "      <td>15.0</td>\n",
              "    </tr>\n",
              "    <tr>\n",
              "      <th>4</th>\n",
              "      <td>182480.0</td>\n",
              "      <td>9.0</td>\n",
              "    </tr>\n",
              "  </tbody>\n",
              "</table>\n",
              "</div>"
            ],
            "text/plain": [
              "         id  citations\n",
              "0   77152.0        6.0\n",
              "1  253904.0       18.0\n",
              "2   46386.0        9.0\n",
              "3   19572.0       15.0\n",
              "4  182480.0        9.0"
            ]
          },
          "metadata": {
            "tags": []
          },
          "execution_count": 38
        }
      ]
    },
    {
      "cell_type": "markdown",
      "metadata": {
        "id": "fdeqEdVaddJW"
      },
      "source": [
        "#saved the csv file :)))\n"
      ]
    },
    {
      "cell_type": "code",
      "metadata": {
        "id": "BoMjArYLdjXz"
      },
      "source": [
        "answer.to_csv('submission(1).csv')"
      ],
      "execution_count": 39,
      "outputs": []
    }
  ]
}